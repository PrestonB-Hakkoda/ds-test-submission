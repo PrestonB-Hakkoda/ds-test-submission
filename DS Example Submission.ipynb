{
 "cells": [
  {
   "cell_type": "markdown",
   "id": "53abfaf6-cfbe-4ef6-ad2b-a23d0972b01a",
   "metadata": {},
   "source": [
    "# Tech Demo Submission\n",
    "### Submit your test answers via API to be graded\n",
    "- classe (list): your predicted classes for the corresponding windows\n",
    "- win_inp (list): your windows for predictions corresponding to the predicted classes\n",
    "- name (string): your name\n",
    "\n",
    "#### *Note: If you don't recieve a \"submission successfull\" response your answers will not be submitted/saved*"
   ]
  },
  {
   "cell_type": "code",
   "execution_count": 2,
   "id": "67356fce-a07f-4a92-8db0-c386945a6ac3",
   "metadata": {},
   "outputs": [],
   "source": [
    "import requests\n",
    "import json"
   ]
  },
  {
   "cell_type": "code",
   "execution_count": 4,
   "id": "b074063f-fd09-4822-8918-ecd2759dc030",
   "metadata": {},
   "outputs": [
    {
     "name": "stdout",
     "output_type": "stream",
     "text": [
      "submission status: \n",
      " {\"message\": \"submission successfull\"}\n"
     ]
    }
   ],
   "source": [
    "# Example Inputs\n",
    "win_inp = [1, 39, 18, 46, 78, 58, 83, 87, 90, 103, 117, 123, 134, 137, 150, 155, 167, 206, 236, 240, 246,259, 269, 282, 285, 307, 327, 330, 338, 343, 349, 354, 356, 358, 359, 366, 382, 384, 387, 398]\n",
    "classe = ['A', 'A', 'A', 'D', 'D', 'A', 'A', 'A', 'E', 'A', 'C', 'C', 'E', 'E', 'C', 'D', 'B', 'D', 'B', 'D', 'B', 'C', 'C', 'B', 'B', 'D', 'C', 'C', 'B', 'D', 'B', 'A', 'C', 'D', 'B', 'E', 'C', 'B', 'C', 'D']\n",
    "name = \"test user\"\n",
    "\n",
    "# Submission\n",
    "data = json.dumps({'name': name, 'win_num': win_inp, 'classe': classe})\n",
    "url = 'enter ds test api'\n",
    "headers = {'Authorization': 'enter submission key',\n",
    "           'content-type': 'application/json'}\n",
    "\n",
    "r = requests.post(url, data = data,  headers=headers)\n",
    "print(\"submission status: \\n\", r.text)"
   ]
  }
 ],
 "metadata": {
  "kernelspec": {
   "display_name": "Python 3 (ipykernel)",
   "language": "python",
   "name": "python3"
  },
  "language_info": {
   "codemirror_mode": {
    "name": "ipython",
    "version": 3
   },
   "file_extension": ".py",
   "mimetype": "text/x-python",
   "name": "python",
   "nbconvert_exporter": "python",
   "pygments_lexer": "ipython3",
   "version": "3.9.7"
  }
 },
 "nbformat": 4,
 "nbformat_minor": 5
}
